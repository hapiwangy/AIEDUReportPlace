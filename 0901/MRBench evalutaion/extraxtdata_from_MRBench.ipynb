{
 "cells": [
  {
   "cell_type": "code",
   "execution_count": 1,
   "id": "97641a7d",
   "metadata": {},
   "outputs": [
    {
     "data": {
      "text/plain": [
       "'d:\\\\finding jobs notes and usc things\\\\USC projects\\\\FORTIS LAB\\\\AI + EDU project\\\\AI-EDU-project'"
      ]
     },
     "execution_count": 1,
     "metadata": {},
     "output_type": "execute_result"
    }
   ],
   "source": [
    "import os \n",
    "# first move to the root directory\n",
    "os.chdir('../..')\n",
    "os.getcwd()"
   ]
  },
  {
   "cell_type": "code",
   "execution_count": 2,
   "id": "147bbf5b",
   "metadata": {},
   "outputs": [],
   "source": [
    "import pandas as pd\n",
    "# org_data = pd.read_json('code/UnifyingAITutorEvaluation/MRBench/MRBench_V1.json')\n",
    "\n",
    "import json\n",
    "with open(f\"code/UnifyingAITutorEvaluation/MRBench/MRBench_V1.json\", \"r\", encoding=\"utf-8\") as fp:\n",
    "    json_data = json.load(fp)"
   ]
  },
  {
   "cell_type": "code",
   "execution_count": 3,
   "id": "24b22f05",
   "metadata": {},
   "outputs": [],
   "source": [
    "Bridge: dict[str:list[dict[str:str]]] = {\"train\":[], \"test\":[], \"val\":[]}\n",
    "MathDial: dict[str:list[dict[str:str]]] = {\"train\":[], \"test\":[], \"val\":[]}\n",
    "# for MathDial we need conversation_history and split\n",
    "# for Bridge we need conversation_history, Topic and split "
   ]
  },
  {
   "cell_type": "code",
   "execution_count": 4,
   "id": "0ad5b809",
   "metadata": {},
   "outputs": [],
   "source": [
    "for jd in json_data:\n",
    "    dataset_type = jd['Data']\n",
    "    if dataset_type == \"Bridge\":\n",
    "        Bridge[jd['Split']].append({\n",
    "            \"conversation_history\": jd[\"conversation_history\"],\n",
    "            \"Topic\": jd[\"Topic\"],\n",
    "            \"Data\": dataset_type,\n",
    "        })\n",
    "    else:\n",
    "        MathDial[jd['Split']].append({\n",
    "            \"conversation_history\": jd[\"conversation_history\"],\n",
    "            \"Topic\":\"Not Available\",\n",
    "            \"Data\": dataset_type,\n",
    "        })       "
   ]
  },
  {
   "cell_type": "code",
   "execution_count": 5,
   "id": "f3ddff7b",
   "metadata": {},
   "outputs": [],
   "source": [
    "# from MRBench to extract the train, test, val\n",
    "\n",
    "# words = list(Bridge.keys())\n",
    "# for word in words:\n",
    "#     answer = 0\n",
    "#     for d in (Bridge, MathDial):\n",
    "#         answer += len(d[word])\n",
    "#     print(word, answer)"
   ]
  },
  {
   "cell_type": "markdown",
   "id": "6b866728",
   "metadata": {},
   "source": [
    "# To get the desire consequence\n",
    "## we will have a directory contain\n",
    "### prompt: two version > using when our dataset is MathDial or Bridge\n",
    "## Three directory\n",
    "## train\n",
    "## test\n",
    "## val\n",
    "### all of them contain dataset, conversation_history, Topic"
   ]
  },
  {
   "cell_type": "code",
   "execution_count": 6,
   "id": "7d5f62d1",
   "metadata": {},
   "outputs": [],
   "source": [
    "train, test, val = MathDial['train'] + Bridge['train'], MathDial['test'] + Bridge['test'], MathDial['val'] + Bridge['val']"
   ]
  },
  {
   "cell_type": "code",
   "execution_count": 7,
   "id": "87ca991a",
   "metadata": {},
   "outputs": [],
   "source": [
    "os.mkdir('code/happy_construct/MRBench_V1')"
   ]
  },
  {
   "cell_type": "code",
   "execution_count": 8,
   "id": "c57dc318",
   "metadata": {},
   "outputs": [],
   "source": [
    "with open(\"code/happy_construct/MRBench_V1/train.json\", \"w\", encoding=\"utf-8\") as f:\n",
    "    json.dump(train, f, indent=4, ensure_ascii=False)\n",
    "with open(\"code/happy_construct/MRBench_V1/test.json\", \"w\", encoding=\"utf-8\") as f:\n",
    "    json.dump(test, f, indent=4, ensure_ascii=False)\n",
    "with open(\"code/happy_construct/MRBench_V1/val.json\", \"w\", encoding=\"utf-8\") as f:\n",
    "    json.dump(val, f, indent=4, ensure_ascii=False)"
   ]
  },
  {
   "cell_type": "code",
   "execution_count": null,
   "id": "86dd2f1e",
   "metadata": {},
   "outputs": [],
   "source": []
  }
 ],
 "metadata": {
  "kernelspec": {
   "display_name": "AIplusEDU",
   "language": "python",
   "name": "python3"
  },
  "language_info": {
   "codemirror_mode": {
    "name": "ipython",
    "version": 3
   },
   "file_extension": ".py",
   "mimetype": "text/x-python",
   "name": "python",
   "nbconvert_exporter": "python",
   "pygments_lexer": "ipython3",
   "version": "3.12.11"
  }
 },
 "nbformat": 4,
 "nbformat_minor": 5
}
