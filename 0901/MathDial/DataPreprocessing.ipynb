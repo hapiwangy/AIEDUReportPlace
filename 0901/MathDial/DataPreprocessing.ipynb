{
 "cells": [
  {
   "cell_type": "markdown",
   "id": "27a278cb",
   "metadata": {},
   "source": [
    "# Split data into 80 / 10 / 10"
   ]
  },
  {
   "cell_type": "code",
   "execution_count": 1,
   "id": "760e71d1",
   "metadata": {},
   "outputs": [],
   "source": [
    "# import package\n",
    "import pandas as pd\n",
    "from sklearn.model_selection import train_test_split\n",
    "import os"
   ]
  },
  {
   "cell_type": "code",
   "execution_count": 2,
   "id": "6436fd13",
   "metadata": {},
   "outputs": [],
   "source": [
    "# set filename or other variables\n",
    "Data_store = r\"data\"\n",
    "os.makedirs(Data_store, exist_ok=True)"
   ]
  },
  {
   "cell_type": "code",
   "execution_count": 3,
   "id": "cebe0540",
   "metadata": {},
   "outputs": [
    {
     "data": {
      "text/plain": [
       "(2262, 11)"
      ]
     },
     "execution_count": 3,
     "metadata": {},
     "output_type": "execute_result"
    }
   ],
   "source": [
    "# import data and check numbers\n",
    "data = pd.read_json(r\"../../dataset/mathdial/data/train.jsonl\", lines=True)\n",
    "data.shape"
   ]
  },
  {
   "cell_type": "code",
   "execution_count": 4,
   "id": "b8c9c7c5",
   "metadata": {},
   "outputs": [],
   "source": [
    "# cut the  80/ 20\n",
    "## set the ids\n",
    "if \"dialogue_id\" in data.columns:\n",
    "    unique_dialogues = data[\"dialogue_id\"].unique()\n",
    "else:\n",
    "    # 如果原始資料沒有 dialogue_id，就假設一筆資料 = 一個對話\n",
    "    data[\"dialogue_id\"] = data.index\n",
    "    unique_dialogues = data[\"dialogue_id\"].unique()"
   ]
  },
  {
   "cell_type": "code",
   "execution_count": 5,
   "id": "afbabfb6",
   "metadata": {},
   "outputs": [],
   "source": [
    "## splite into train, test, val\n",
    "train_ids, temp_ids = train_test_split(\n",
    "    unique_dialogues, test_size=0.2, random_state=42\n",
    ")\n",
    "test_ids, val_ids = train_test_split(\n",
    "    temp_ids, test_size=0.5, random_state=42\n",
    ")"
   ]
  },
  {
   "cell_type": "code",
   "execution_count": 6,
   "id": "805ae4b2",
   "metadata": {},
   "outputs": [
    {
     "name": "stdout",
     "output_type": "stream",
     "text": [
      "Train: 1809\n",
      "Val: 227\n",
      "Test: 226\n"
     ]
    }
   ],
   "source": [
    "## check the data\n",
    "train_data = data[data[\"dialogue_id\"].isin(train_ids)]\n",
    "val_data   = data[data[\"dialogue_id\"].isin(val_ids)]\n",
    "test_data  = data[data[\"dialogue_id\"].isin(test_ids)]\n",
    "\n",
    "print(\"Train:\", len(train_data))\n",
    "print(\"Val:\", len(val_data))\n",
    "print(\"Test:\", len(test_data))"
   ]
  },
  {
   "cell_type": "code",
   "execution_count": 7,
   "id": "d8da44f4",
   "metadata": {},
   "outputs": [],
   "source": [
    "## store into new files\n",
    "train_data.to_json(os.path.join(Data_store, \"train_80.jsonl\"), orient=\"records\", lines=True, force_ascii=False)\n",
    "val_data.to_json(os.path.join(Data_store, \"val_10.jsonl\"), orient=\"records\", lines=True, force_ascii=False)\n",
    "test_data.to_json(os.path.join(Data_store,\"test_10.jsonl\"), orient=\"records\", lines=True, force_ascii=False)"
   ]
  },
  {
   "cell_type": "code",
   "execution_count": null,
   "id": "06db13b4",
   "metadata": {},
   "outputs": [],
   "source": []
  }
 ],
 "metadata": {
  "kernelspec": {
   "display_name": "AIplusEDU",
   "language": "python",
   "name": "python3"
  },
  "language_info": {
   "codemirror_mode": {
    "name": "ipython",
    "version": 3
   },
   "file_extension": ".py",
   "mimetype": "text/x-python",
   "name": "python",
   "nbconvert_exporter": "python",
   "pygments_lexer": "ipython3",
   "version": "3.12.11"
  }
 },
 "nbformat": 4,
 "nbformat_minor": 5
}
